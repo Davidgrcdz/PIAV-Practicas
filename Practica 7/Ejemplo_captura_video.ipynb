{
 "cells": [
  {
   "cell_type": "code",
   "execution_count": 1,
   "metadata": {},
   "outputs": [
    {
     "ename": "KeyboardInterrupt",
     "evalue": "",
     "output_type": "error",
     "traceback": [
      "\u001b[1;31m---------------------------------------------------------------------------\u001b[0m",
      "\u001b[1;31mKeyboardInterrupt\u001b[0m                         Traceback (most recent call last)",
      "Cell \u001b[1;32mIn[1], line 21\u001b[0m\n\u001b[0;32m     18\u001b[0m \u001b[38;5;28mint\u001b[39m \u001b[38;5;241m=\u001b[39m \u001b[38;5;241m0\u001b[39m\n\u001b[0;32m     19\u001b[0m \u001b[38;5;28;01mwhile\u001b[39;00m status:\n\u001b[0;32m     20\u001b[0m         \u001b[38;5;66;03m#captura la imagen 2\u001b[39;00m\n\u001b[1;32m---> 21\u001b[0m         ret, img \u001b[38;5;241m=\u001b[39m \u001b[43mframe\u001b[49m\u001b[38;5;241;43m.\u001b[39;49m\u001b[43mread\u001b[49m\u001b[43m(\u001b[49m\u001b[43m)\u001b[49m\n\u001b[0;32m     22\u001b[0m         gray \u001b[38;5;241m=\u001b[39m cv2\u001b[38;5;241m.\u001b[39mcvtColor(img, cv2\u001b[38;5;241m.\u001b[39mCOLOR_BGR2GRAY)\n\u001b[0;32m     24\u001b[0m         \u001b[38;5;66;03m#calcula la diferencia\u001b[39;00m\n",
      "\u001b[1;31mKeyboardInterrupt\u001b[0m: "
     ]
    }
   ],
   "source": [
    "import numpy as np\n",
    "import cv2\n",
    "\n",
    "frame= cv2.VideoCapture(0)\n",
    "\n",
    "\n",
    "\n",
    "# crea colores aleatorios\n",
    "color = np.random.randint(0,255,(100,3))\n",
    "\n",
    "# toma la primera imagen\n",
    "status, old_frame = frame.read()\n",
    "old_gray = cv2.cvtColor(old_frame, cv2.COLOR_BGR2GRAY)\n",
    "\n",
    "\n",
    "#inicializo una imagen para añadir los resultados en blanco\n",
    "result2 =  np.zeros_like(old_gray)\n",
    "int = 0\n",
    "while status:\n",
    "        #captura la imagen 2\n",
    "        ret, img = frame.read()\n",
    "        gray = cv2.cvtColor(img, cv2.COLOR_BGR2GRAY)\n",
    "      \n",
    "        #calcula la diferencia\n",
    "        result =  gray - old_gray\n",
    "        result[result<50]= 255\n",
    "        result2 = result + result2\n",
    "        result2[result2>250] = 255\n",
    "        if int> 20:\n",
    "          cv2.imshow('foto',result2)\n",
    "          result2 =  255*np.ones_like(old_gray) \n",
    "          int = 0  \n",
    "    \n",
    "        cv2.imshow('frame', result2)\n",
    "        # actualiza la imagen 1\n",
    "        old_gray = gray.copy()\n",
    "        if cv2.waitKey(1)==27:\n",
    "            status = False   \n",
    "        int +=1\n",
    "            \n",
    "    \n",
    "frame.release()\n",
    "cv2.waitKey(0)\n",
    "cv2.destroyAllWindows()"
   ]
  }
 ],
 "metadata": {
  "kernelspec": {
   "display_name": "Python 3",
   "language": "python",
   "name": "python3"
  },
  "language_info": {
   "codemirror_mode": {
    "name": "ipython",
    "version": 3
   },
   "file_extension": ".py",
   "mimetype": "text/x-python",
   "name": "python",
   "nbconvert_exporter": "python",
   "pygments_lexer": "ipython3",
   "version": "3.11.9"
  }
 },
 "nbformat": 4,
 "nbformat_minor": 2
}
