{
 "cells": [
  {
   "cell_type": "code",
   "execution_count": 3,
   "metadata": {},
   "outputs": [],
   "source": [
    "import cv2 as cv\n",
    "import numpy as np\n",
    "import os\n",
    "\n",
    "def filtrar_huellas(imagen):\n",
    "    # Convertir la imagen a escala de grises\n",
    "    imagen_gris = cv.cvtColor(imagen, cv.COLOR_BGR2GRAY)\n",
    "    # Aplicar un filtro de mediana para eliminar ruido\n",
    "    imagen_filtrada = cv.GaussianBlur(imagen_gris, (5, 5), 0)\n",
    "    # Aplicar un filtro de Canny para detectar bordes\n",
    "    imagen_bordes = cv.Canny(imagen_filtrada, 100, 200)\n",
    "    # Aplicar un filtro de dilatación para cerrar los bordes\n",
    "    kernel = np.ones((5,5), np.uint8)\n",
    "    imagen_dilatada = cv.dilate(imagen_bordes, kernel, iterations=1)\n",
    "    return imagen_dilatada\n",
    "\n",
    "sample_path = r\"\\BaseDatosNISTsd09_pr\"\n",
    "sample_path = os.getcwd()+sample_path\n",
    "files= os.listdir(sample_path)\n",
    "\n",
    "for file in files:\n",
    "    dir = sample_path +'\\\\'\n",
    "    dir = dir + file + '\\\\'\n",
    "    file2= os.listdir(dir)\n",
    "    ruta=dir+'\\\\'+file2[0]\n",
    "    sample = cv.imread(ruta) #muestras para tomar de referencia\n",
    "    sample = filtrar_huellas(sample)\n",
    "\n",
    "# mostrar la imagen\n",
    "cv.imshow('Huellas', sample)\n",
    "cv.waitKey(0)\n",
    "cv.destroyAllWindows()\n"
   ]
  },
  {
   "cell_type": "code",
   "execution_count": null,
   "metadata": {},
   "outputs": [],
   "source": []
  }
 ],
 "metadata": {
  "kernelspec": {
   "display_name": "Python 3",
   "language": "python",
   "name": "python3"
  },
  "language_info": {
   "codemirror_mode": {
    "name": "ipython",
    "version": 3
   },
   "file_extension": ".py",
   "mimetype": "text/x-python",
   "name": "python",
   "nbconvert_exporter": "python",
   "pygments_lexer": "ipython3",
   "version": "3.10.11"
  }
 },
 "nbformat": 4,
 "nbformat_minor": 2
}
