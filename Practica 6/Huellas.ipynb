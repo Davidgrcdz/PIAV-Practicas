{
 "cells": [
  {
   "cell_type": "code",
   "execution_count": null,
   "metadata": {},
   "outputs": [],
   "source": [
    "import cv2 as cv\n",
    "import numpy as np\n",
    "import os\n",
    "\n",
    "def filtrar_huellas(imagen):\n",
    "    # Convertir la imagen a escala de grises\n",
    "    imagen_gris = cv.cvtColor(imagen, cv.COLOR_BGR2GRAY)\n",
    "    \n",
    "    # Aplicar un filtro de mediana para reducir el ruido\n",
    "    imagen_filtrada = cv.medianBlur(imagen_gris, 5)\n",
    "    \n",
    "    # Aplicar CLAHE con una grilla más pequeña\n",
    "    imagen_clahe = cv.createCLAHE(clipLimit=2.0, tileGridSize=(8, 8)).apply(imagen_filtrada)\n",
    "\n",
    "    imagen_binaria = cv.adaptiveThreshold(\n",
    "        imagen_clahe,\n",
    "        255,\n",
    "        cv.ADAPTIVE_THRESH_GAUSSIAN_C,\n",
    "        cv.THRESH_BINARY,\n",
    "        11,\n",
    "        10\n",
    "    )\n",
    "\n",
    "    imagen_binaria = cv.medianBlur(imagen_binaria, 3)\n",
    "    \n",
    "    return imagen_binaria\n",
    "\n",
    "# Ruta de la base de datos de imágenes\n",
    "sample_path = r\"\\BaseDatosNISTsd09_pr\"\n",
    "sample_path = os.getcwd() + sample_path\n",
    "files = os.listdir(sample_path)\n",
    "\n",
    "for file in files:\n",
    "    dir = os.path.join(sample_path, file)\n",
    "    file2 = os.listdir(dir)\n",
    "    ruta = os.path.join(dir, file2[0])\n",
    "    sample = cv.imread(ruta)  # Cargar la imagen de muestra\n",
    "    sample = filtrar_huellas(sample)\n",
    "\n",
    "# Mostrar la imagen\n",
    "cv.imshow('Huellas', sample)\n",
    "cv.waitKey(0)\n",
    "cv.destroyAllWindows()\n"
   ]
  },
  {
   "cell_type": "code",
   "execution_count": null,
   "metadata": {},
   "outputs": [],
   "source": []
  }
 ],
 "metadata": {
  "kernelspec": {
   "display_name": "Python 3",
   "language": "python",
   "name": "python3"
  },
  "language_info": {
   "codemirror_mode": {
    "name": "ipython",
    "version": 3
   },
   "file_extension": ".py",
   "mimetype": "text/x-python",
   "name": "python",
   "nbconvert_exporter": "python",
   "pygments_lexer": "ipython3",
   "version": "3.10.11"
  }
 },
 "nbformat": 4,
 "nbformat_minor": 2
}
