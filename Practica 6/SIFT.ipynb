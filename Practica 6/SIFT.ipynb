{
 "cells": [
  {
   "cell_type": "code",
   "execution_count": 1,
   "metadata": {},
   "outputs": [],
   "source": [
    "import cv2\n",
    "import os\n",
    "import numpy as np\n",
    "from matplotlib import pyplot as plt\n"
   ]
  },
  {
   "cell_type": "code",
   "execution_count": 2,
   "metadata": {},
   "outputs": [
    {
     "name": "stdout",
     "output_type": "stream",
     "text": [
      "Base de datos creada con éxito.\n"
     ]
    }
   ],
   "source": [
    "import os\n",
    "import shutil\n",
    "\n",
    "# Directorio de entrada\n",
    "input_dir = 'imagenes_filtradas'\n",
    "\n",
    "# Directorios de salida\n",
    "output_dir = 'user_database'\n",
    "os.makedirs(output_dir, exist_ok=True)\n",
    "\n",
    "# Organizar las imágenes en carpetas por usuario\n",
    "for image_name in os.listdir(input_dir):\n",
    "    if image_name.endswith('.png'):\n",
    "        user_id = image_name[:2]  # Extraer el identificador del usuario (ejemplo: \"11\", \"12\")\n",
    "        user_dir = os.path.join(output_dir, f\"user{user_id}\")\n",
    "        os.makedirs(user_dir, exist_ok=True)\n",
    "        shutil.copy(os.path.join(input_dir, image_name), os.path.join(user_dir, image_name))\n",
    "\n",
    "print(\"Base de datos creada con éxito.\")\n"
   ]
  },
  {
   "cell_type": "code",
   "execution_count": 3,
   "metadata": {},
   "outputs": [],
   "source": [
    "def extract_features(image_path):\n",
    "    \"\"\"\n",
    "    Extrae puntos clave y descriptores de una imagen usando SIFT.\n",
    "    \"\"\"\n",
    "    # Leer la imagen en escala de grises\n",
    "    image = cv2.imread(image_path, cv2.IMREAD_GRAYSCALE)\n",
    "    if image is None:\n",
    "        raise ValueError(f\"Error al cargar la imagen: {image_path}\")\n",
    "    \n",
    "    # Crear el objeto SIFT\n",
    "    sift = cv2.SIFT_create()\n",
    "    \n",
    "    # Detectar puntos clave y calcular descriptores\n",
    "    keypoints, descriptors = sift.detectAndCompute(image, None)\n",
    "    return keypoints, descriptors\n"
   ]
  },
  {
   "cell_type": "code",
   "execution_count": 4,
   "metadata": {},
   "outputs": [],
   "source": [
    "def match_fingerprints(descriptors1, descriptors2, ratio_threshold=0.75):\n",
    "    \"\"\"\n",
    "    Compara dos conjuntos de descriptores SIFT y devuelve la cantidad de coincidencias.\n",
    "    \"\"\"\n",
    "    # Crear un objeto de coincidencia BFMatcher\n",
    "    bf = cv2.BFMatcher(cv2.NORM_L2, crossCheck=False)\n",
    "    \n",
    "    # Encontrar las coincidencias iniciales\n",
    "    matches = bf.knnMatch(descriptors1, descriptors2, k=2)\n",
    "    \n",
    "    # Filtrar coincidencias usando el ratio de Lowe\n",
    "    good_matches = [m for m, n in matches if m.distance < ratio_threshold * n.distance]\n",
    "    \n",
    "    return len(good_matches)\n"
   ]
  },
  {
   "cell_type": "code",
   "execution_count": 5,
   "metadata": {},
   "outputs": [],
   "source": [
    "def visualize_matches(image1_path, image2_path, ratio_threshold=0.75):\n",
    "    \"\"\"\n",
    "    Muestra las coincidencias entre dos imágenes de huellas.\n",
    "    \"\"\"\n",
    "    img1 = cv2.imread(image1_path, cv2.IMREAD_GRAYSCALE)\n",
    "    img2 = cv2.imread(image2_path, cv2.IMREAD_GRAYSCALE)\n",
    "\n",
    "    sift = cv2.SIFT_create()\n",
    "\n",
    "    kp1, des1 = sift.detectAndCompute(img1, None)\n",
    "    kp2, des2 = sift.detectAndCompute(img2, None)\n",
    "\n",
    "    bf = cv2.BFMatcher(cv2.NORM_L2, crossCheck=False)\n",
    "    matches = bf.knnMatch(des1, des2, k=2)\n",
    "    good_matches = [m for m, n in matches if m.distance < ratio_threshold * n.distance]\n",
    "\n",
    "    match_img = cv2.drawMatches(img1, kp1, img2, kp2, good_matches, None, flags=cv2.DrawMatchesFlags_NOT_DRAW_SINGLE_POINTS)\n",
    "    \n",
    "    plt.figure(figsize=(12, 8))\n",
    "    plt.imshow(match_img, cmap='gray')\n",
    "    plt.title(f\"Coincidencias: {len(good_matches)}\")\n",
    "    plt.show()\n"
   ]
  },
  {
   "cell_type": "code",
   "execution_count": 6,
   "metadata": {},
   "outputs": [],
   "source": [
    "def authenticate_user(new_fingerprint_path, database_dir, match_threshold=20):\n",
    "    \"\"\"\n",
    "    Compara una nueva huella con la base de datos organizada por usuario.\n",
    "    \"\"\"\n",
    "    # Extraer características de la nueva huella\n",
    "    _, new_descriptors = extract_features(new_fingerprint_path)\n",
    "    if new_descriptors is None:\n",
    "        return \"No se encontraron características en la huella nueva.\"\n",
    "    \n",
    "    max_matches = 0\n",
    "    best_user = None\n",
    "\n",
    "    # Recorrer cada usuario en la base de datos\n",
    "    for user_dir in os.listdir(database_dir):\n",
    "        user_path = os.path.join(database_dir, user_dir)\n",
    "        if os.path.isdir(user_path):\n",
    "            for fingerprint_path in os.listdir(user_path):\n",
    "                full_path = os.path.join(user_path, fingerprint_path)\n",
    "                _, db_descriptors = extract_features(full_path)\n",
    "\n",
    "                if db_descriptors is None:\n",
    "                    continue\n",
    "                \n",
    "                # Comparar descriptores\n",
    "                match_count = match_fingerprints(new_descriptors, db_descriptors)\n",
    "                print(f\"Comparando con {full_path}, Coincidencias: {match_count}\")\n",
    "\n",
    "                if match_count > max_matches:\n",
    "                    max_matches = match_count\n",
    "                    best_user = user_dir\n",
    "\n",
    "    if max_matches >= match_threshold:\n",
    "        return f\"Huella autenticada como del usuario {best_user} con {max_matches} coincidencias.\"\n",
    "    else:\n",
    "        return f\"Huella rechazada. Máximas coincidencias: {max_matches}\"\n"
   ]
  },
  {
   "cell_type": "code",
   "execution_count": 7,
   "metadata": {},
   "outputs": [
    {
     "name": "stdout",
     "output_type": "stream",
     "text": [
      "Comparando con user_database\\user11\\11f_01.png, Coincidencias: 60\n",
      "Comparando con user_database\\user11\\11s_01.png, Coincidencias: 47\n",
      "Comparando con user_database\\user12\\12f_01.png, Coincidencias: 54\n",
      "Comparando con user_database\\user12\\12s_01.png, Coincidencias: 61\n",
      "Comparando con user_database\\user13\\13f_01.png, Coincidencias: 46\n",
      "Comparando con user_database\\user13\\13s_01.png, Coincidencias: 44\n",
      "Comparando con user_database\\user14\\14f_01.png, Coincidencias: 48\n",
      "Comparando con user_database\\user14\\14s_01.png, Coincidencias: 48\n",
      "Comparando con user_database\\user15\\15f_01.png, Coincidencias: 57\n",
      "Comparando con user_database\\user15\\15s_01.png, Coincidencias: 54\n",
      "Comparando con user_database\\user16\\16f_01.png, Coincidencias: 64\n",
      "Comparando con user_database\\user16\\16s_01.png, Coincidencias: 56\n",
      "Comparando con user_database\\user17\\17f_01.png, Coincidencias: 55\n",
      "Comparando con user_database\\user17\\17s_01.png, Coincidencias: 60\n",
      "Comparando con user_database\\user18\\18f_01.png, Coincidencias: 51\n",
      "Comparando con user_database\\user18\\18s_01.png, Coincidencias: 67\n",
      "Comparando con user_database\\user19\\19f_01.png, Coincidencias: 53\n",
      "Comparando con user_database\\user19\\19s_01.png, Coincidencias: 47\n",
      "Comparando con user_database\\user20\\20f_01.png, Coincidencias: 1876\n",
      "Comparando con user_database\\user20\\20s_01.png, Coincidencias: 59\n",
      "Huella autenticada como del usuario user20 con 1876 coincidencias.\n"
     ]
    }
   ],
   "source": [
    "# Crear la base de datos organizada por usuario\n",
    "database_dir = 'user_database'\n",
    "\n",
    "# Ruta de una nueva huella\n",
    "new_fingerprint_path = 'imagenes_filtradas/20f_01.png'  # Cambia al nombre de la huella que quieres autenticar\n",
    "\n",
    "# Autenticar la huella\n",
    "result = authenticate_user(new_fingerprint_path, database_dir)\n",
    "print(result)\n"
   ]
  }
 ],
 "metadata": {
  "kernelspec": {
   "display_name": "piav",
   "language": "python",
   "name": "python3"
  },
  "language_info": {
   "codemirror_mode": {
    "name": "ipython",
    "version": 3
   },
   "file_extension": ".py",
   "mimetype": "text/x-python",
   "name": "python",
   "nbconvert_exporter": "python",
   "pygments_lexer": "ipython3",
   "version": "3.10.9"
  }
 },
 "nbformat": 4,
 "nbformat_minor": 2
}
