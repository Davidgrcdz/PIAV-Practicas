{
 "cells": [
  {
   "cell_type": "code",
   "execution_count": null,
   "metadata": {},
   "outputs": [],
   "source": [
    "import os\n",
    "import shutil\n",
    "\n",
    "# Directorio de entrada\n",
    "input_dir = 'imagenes_filtradas'\n",
    "\n",
    "# Directorio de salida\n",
    "output_dir = 'data'\n",
    "os.makedirs(os.path.join(output_dir, 'train'), exist_ok=True)\n",
    "os.makedirs(os.path.join(output_dir, 'test'), exist_ok=True)\n",
    "\n",
    "# Crear subcarpetas de usuarios\n",
    "user_ids = list(set([img.split('_')[0] for img in os.listdir(input_dir)]))  # Obtener IDs de usuario\n",
    "for user_id in user_ids:\n",
    "    os.makedirs(os.path.join(output_dir, 'train', user_id), exist_ok=True)\n",
    "    os.makedirs(os.path.join(output_dir, 'test', user_id), exist_ok=True)\n",
    "\n",
    "# Separar imágenes por usuario y en train/test\n",
    "for image in os.listdir(input_dir):\n",
    "    user_id = image.split('_')[0]\n",
    "    if 'f' in image:  # Usar las imágenes con sufijo 'f' para entrenamiento\n",
    "        shutil.copy(os.path.join(input_dir, image), os.path.join(output_dir, 'train', user_id, image))\n",
    "    elif 's' in image:  # Usar las imágenes con sufijo 's' para prueba\n",
    "        shutil.copy(os.path.join(input_dir, image), os.path.join(output_dir, 'test', user_id, image))\n",
    "\n",
    "print(\"Estructura creada con éxito.\")\n"
   ]
  }
 ],
 "metadata": {
  "language_info": {
   "name": "python"
  }
 },
 "nbformat": 4,
 "nbformat_minor": 2
}
